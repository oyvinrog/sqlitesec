{
 "cells": [
  {
   "cell_type": "code",
   "execution_count": 44,
   "metadata": {},
   "outputs": [
    {
     "name": "stderr",
     "output_type": "stream",
     "text": [
      "test_connection (__main__.TestSqliteSec)\n",
      "Test if the database connection is established and closed properly. ... ok\n",
      "test_encryption_decryption (__main__.TestSqliteSec)\n",
      "Test if data is correctly encrypted and decrypted. ... "
     ]
    },
    {
     "name": "stdout",
     "output_type": "stream",
     "text": [
      "Data fetched from database: Hello, world!\n"
     ]
    },
    {
     "name": "stderr",
     "output_type": "stream",
     "text": [
      "ok\n",
      "\n",
      "----------------------------------------------------------------------\n",
      "Ran 2 tests in 0.162s\n",
      "\n",
      "OK\n"
     ]
    },
    {
     "data": {
      "text/plain": [
       "<unittest.main.TestProgram at 0x1f032450430>"
      ]
     },
     "execution_count": 44,
     "metadata": {},
     "output_type": "execute_result"
    }
   ],
   "source": [
    "import unittest\n",
    "import os\n",
    "from sqlitesec import SqliteSec\n",
    "\n",
    "class TestSqliteSec(unittest.TestCase):\n",
    "    def setUp(self):\n",
    "        # Use a temporary database file for testing\n",
    "        self.db_path = 'test.db'\n",
    "\n",
    "        if os.path.exists(self.db_path):\n",
    "            os.remove(self.db_path)\n",
    "        self.key = b'test_key_1234567890123456'  # 16-byte key for testing\n",
    "        self.sqlitesec = SqliteSec(self.key)\n",
    "\n",
    "\n",
    "    def test_connection(self):\n",
    "        \"\"\"Test if the database connection is established and closed properly.\"\"\"\n",
    "        conn = self.sqlitesec.connect(self.db_path)\n",
    "        self.assertIsNotNone(conn)\n",
    "        self.sqlitesec.close(conn, self.db_path)\n",
    "        # Check if file exists after closing (should be encrypted)\n",
    "        self.assertTrue(os.path.exists(self.db_path))\n",
    "\n",
    "    def test_encryption_decryption(self):\n",
    "        \"\"\"Test if data is correctly encrypted and decrypted.\"\"\"\n",
    "        conn = self.sqlitesec.connect(self.db_path)\n",
    "        cursor = conn.cursor()\n",
    "        # Create a table and insert data\n",
    "        cursor.execute('CREATE TABLE IF NOT EXISTS test (id INTEGER PRIMARY KEY, data TEXT)')\n",
    "        test_data = 'Hello, world!'\n",
    "        cursor.execute('INSERT INTO test (data) VALUES (?)', (test_data,))\n",
    "        conn.commit()\n",
    "        self.sqlitesec.close(conn, self.db_path)\n",
    "        \n",
    "        # Reconnect and check data\n",
    "        conn = self.sqlitesec.connect(self.db_path)\n",
    "        cursor = conn.cursor()\n",
    "        cursor.execute('SELECT data FROM test WHERE id=1')\n",
    "        fetched_data = cursor.fetchone()[0]\n",
    "        print(\"Data fetched from database:\", fetched_data)\n",
    "        self.assertEqual(fetched_data, test_data)\n",
    "        self.sqlitesec.close(conn, self.db_path)\n",
    "\n",
    "\n",
    "  \n",
    "    def tearDown(self):\n",
    "        # Remove the test database file if it exists\n",
    "        if os.path.exists(self.db_path):\n",
    "            os.remove(self.db_path)\n",
    "\n",
    "# To run the tests in a Jupyter notebook, use the following:\n",
    "unittest.main(argv=[''], verbosity=2, exit=False)\n",
    "\n"
   ]
  },
  {
   "cell_type": "code",
   "execution_count": 45,
   "metadata": {},
   "outputs": [
    {
     "name": "stdout",
     "output_type": "stream",
     "text": [
      "Hei, verden!\n"
     ]
    }
   ],
   "source": [
    "# Usage example\n",
    "if os.path.exists(\"test.db\"):\n",
    "    os.remove(\"test.db\")\n",
    "\n",
    "key = b'blabla'\n",
    "sqs = SqliteSec(key)\n",
    "\n",
    "conn = sqs.connect(\"test.db\")\n",
    "cursor = conn.cursor()\n",
    "cursor.execute('CREATE TABLE IF NOT EXISTS test (id INTEGER PRIMARY KEY, data TEXT)')\n",
    "cursor.execute('INSERT INTO test (data) VALUES (?)', ('Hei, verden!',))\n",
    "conn.commit()\n",
    "sqs.close(conn, \"test.db\")\n",
    "\n",
    "\n",
    "# Step 2: Read the data back\n",
    "\n",
    "conn = sqs.connect(\"test.db\")\n",
    "cursor = conn.cursor()\n",
    "cursor.execute('SELECT data FROM test WHERE id=1')\n",
    "fetched_data = cursor.fetchone()[0]\n",
    "print(fetched_data)\n",
    "sqs.close(conn, \"test.db\")\n"
   ]
  }
 ],
 "metadata": {
  "kernelspec": {
   "display_name": "Python 3",
   "language": "python",
   "name": "python3"
  },
  "language_info": {
   "codemirror_mode": {
    "name": "ipython",
    "version": 3
   },
   "file_extension": ".py",
   "mimetype": "text/x-python",
   "name": "python",
   "nbconvert_exporter": "python",
   "pygments_lexer": "ipython3",
   "version": "3.10.1"
  }
 },
 "nbformat": 4,
 "nbformat_minor": 2
}
